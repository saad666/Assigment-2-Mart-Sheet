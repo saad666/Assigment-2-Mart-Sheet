{
 "cells": [
  {
   "cell_type": "code",
   "execution_count": 3,
   "metadata": {},
   "outputs": [
    {
     "name": "stdout",
     "output_type": "stream",
     "text": [
      "Enter marks of Math:  30\n",
      "Enter marks of Eng:  49\n",
      "Enter marks of Urdu:  67\n",
      "Enter marks of Comp:  50\n",
      "Grade: A\n"
     ]
    }
   ],
   "source": [
    "Math=-1 \n",
    "while Math not in range(101):\n",
    "   Math=int(input(\"Enter marks of Math:  \"))\n",
    "Eng=-1 \n",
    "while Eng not in range(101):\n",
    "   Eng=int(input(\"Enter marks of Eng:  \"))\n",
    "Urdu=-1 \n",
    "while Urdu not in range(101):\n",
    "   Urdu=int(input(\"Enter marks of Urdu:  \"))\n",
    "Comp=-1 \n",
    "while Comp not in range(101):\n",
    "   Comp=int(input(\"Enter marks of Comp:  \"))\n",
    "avg=(Math+Eng+Urdu+Comp)/2\n",
    "if(avg>=90):\n",
    "    print(\"Grade: A\")\n",
    "elif(avg>=80 and avg<90):\n",
    "    print(\"Grade: B\")\n",
    "elif(avg>=70 and avg<80):\n",
    "    print(\"Grade: C\")\n",
    "elif(avg>=60 and avg<70):\n",
    "    print(\"Grade: D\")\n",
    "else:\n",
    "    print(\"Grade: F\")"
   ]
  },
  {
   "cell_type": "code",
   "execution_count": null,
   "metadata": {},
   "outputs": [],
   "source": []
  }
 ],
 "metadata": {
  "kernelspec": {
   "display_name": "Python 3",
   "language": "python",
   "name": "python3"
  },
  "language_info": {
   "codemirror_mode": {
    "name": "ipython",
    "version": 3
   },
   "file_extension": ".py",
   "mimetype": "text/x-python",
   "name": "python",
   "nbconvert_exporter": "python",
   "pygments_lexer": "ipython3",
   "version": "3.7.4"
  }
 },
 "nbformat": 4,
 "nbformat_minor": 2
}
